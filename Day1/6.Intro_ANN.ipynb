{
 "cells": [
  {
   "cell_type": "markdown",
   "metadata": {},
   "source": [
    "# Introduction to Artificial Neural Networks"
   ]
  },
  {
   "cell_type": "markdown",
   "metadata": {},
   "source": [
    "> Written by Dr Daniel Buscombe, Northern Arizona University\n",
    "\n",
    "> Part of a series of notebooks for image recognition and classification using deep convolutional neural networks"
   ]
  },
  {
   "cell_type": "markdown",
   "metadata": {},
   "source": [
    "This notebook is an introduction to the fundamental model/paradigm behind deep learning: the artificial neural network"
   ]
  },
  {
   "cell_type": "code",
   "execution_count": null,
   "metadata": {},
   "outputs": [],
   "source": []
  },
  {
   "cell_type": "markdown",
   "metadata": {},
   "source": [
    "Artificial neural networks (ANNs) are software implementations of the neuronal structure of our brains.  We don’t need to talk about the complex biology of our brain structures, but suffice to say, the brain contains neurons which are kind of like organic switches.  These can change their output state depending on the strength of their electrical or chemical input.  The neural network in a person’s brain is a hugely interconnected network of neurons, where the output of any given neuron may be the input to thousands of other neurons.  Learning occurs by repeatedly activating certain neural connections over others, and this reinforces those connections.  This makes them more likely to produce a desired outcome given a specified input.  This learning involves feedback – when the desired outcome occurs, the neural connections causing that outcome become strengthened."
   ]
  },
  {
   "cell_type": "markdown",
   "metadata": {},
   "source": [
    "\n",
    "Artificial neural networks attempt to simplify and mimic this brain behaviour.  They can be trained in a supervised or unsupervised manner.  In a supervised ANN, the network is trained by providing matched input and output data samples, with the intention of getting the ANN to provide a desired output for a given input.  An example is an e-mail spam filter – the input training data could be the count of various words in the body of the e-mail, and the output training data would be a classification of whether the e-mail was truly spam or not.  If many examples of e-mails are passed through the neural network this allows the network to learn what input data makes it likely that an e-mail is spam or not.  This learning takes place be adjusting the weights of the ANN connections, but this will be discussed further in the next section."
   ]
  },
  {
   "cell_type": "code",
   "execution_count": null,
   "metadata": {},
   "outputs": [],
   "source": []
  },
  {
   "cell_type": "code",
   "execution_count": null,
   "metadata": {},
   "outputs": [],
   "source": []
  },
  {
   "cell_type": "markdown",
   "metadata": {},
   "source": [
    "First, load the usual libraries"
   ]
  },
  {
   "cell_type": "code",
   "execution_count": 1,
   "metadata": {},
   "outputs": [],
   "source": [
    "import matplotlib.pyplot as plt \n",
    "import numpy as np\n",
    "from skimage.transform import resize\n",
    "from imageio import imread\n",
    "from skimage import color"
   ]
  },
  {
   "cell_type": "code",
   "execution_count": 2,
   "metadata": {},
   "outputs": [],
   "source": [
    "import s3fs\n",
    "fs = s3fs.S3FileSystem(anon=True)"
   ]
  },
  {
   "cell_type": "markdown",
   "metadata": {},
   "source": [
    "## Constructing a multi-class neural network classifier"
   ]
  },
  {
   "cell_type": "markdown",
   "metadata": {},
   "source": [
    "### Preparing a data set"
   ]
  },
  {
   "cell_type": "markdown",
   "metadata": {},
   "source": [
    "Let's take a look at some data"
   ]
  },
  {
   "cell_type": "code",
   "execution_count": 27,
   "metadata": {},
   "outputs": [
    {
     "data": {
      "text/plain": [
       "['cdi-workshop/imrecog_data/EuroSAT/AnnualCrop',\n",
       " 'cdi-workshop/imrecog_data/EuroSAT/Forest',\n",
       " 'cdi-workshop/imrecog_data/EuroSAT/HerbaceousVegetation',\n",
       " 'cdi-workshop/imrecog_data/EuroSAT/Highway',\n",
       " 'cdi-workshop/imrecog_data/EuroSAT/Industrial',\n",
       " 'cdi-workshop/imrecog_data/EuroSAT/Pasture',\n",
       " 'cdi-workshop/imrecog_data/EuroSAT/PermanentCrop',\n",
       " 'cdi-workshop/imrecog_data/EuroSAT/Residential',\n",
       " 'cdi-workshop/imrecog_data/EuroSAT/River',\n",
       " 'cdi-workshop/imrecog_data/EuroSAT/SeaLake']"
      ]
     },
     "execution_count": 27,
     "metadata": {},
     "output_type": "execute_result"
    }
   ],
   "source": [
    "cats = [f for f in fs.ls('cdi-workshop/imrecog_data/EuroSAT')][:10]\n",
    "cats"
   ]
  },
  {
   "cell_type": "markdown",
   "metadata": {},
   "source": [
    "Let's specify the number of images per category we want to train with, and the size of the images we want to train with"
   ]
  },
  {
   "cell_type": "code",
   "execution_count": 28,
   "metadata": {},
   "outputs": [],
   "source": [
    "number_per_cat = 200\n",
    "size = 64"
   ]
  },
  {
   "cell_type": "markdown",
   "metadata": {},
   "source": [
    "Here we will read each image into a list, convert to greyscale, resize it, and keep track of its label "
   ]
  },
  {
   "cell_type": "code",
   "execution_count": 29,
   "metadata": {},
   "outputs": [
    {
     "name": "stdout",
     "output_type": "stream",
     "text": [
      "cdi-workshop/imrecog_data/EuroSAT/AnnualCrop\n"
     ]
    },
    {
     "name": "stderr",
     "output_type": "stream",
     "text": [
      "/opt/conda/lib/python3.6/site-packages/skimage/transform/_warps.py:105: UserWarning: The default mode, 'constant', will be changed to 'reflect' in skimage 0.15.\n",
      "  warn(\"The default mode, 'constant', will be changed to 'reflect' in \"\n",
      "/opt/conda/lib/python3.6/site-packages/skimage/transform/_warps.py:110: UserWarning: Anti-aliasing will be enabled by default in skimage 0.15 to avoid aliasing artifacts when down-sampling images.\n",
      "  warn(\"Anti-aliasing will be enabled by default in skimage 0.15 to \"\n"
     ]
    },
    {
     "name": "stdout",
     "output_type": "stream",
     "text": [
      "cdi-workshop/imrecog_data/EuroSAT/Forest\n",
      "cdi-workshop/imrecog_data/EuroSAT/HerbaceousVegetation\n",
      "cdi-workshop/imrecog_data/EuroSAT/Highway\n",
      "cdi-workshop/imrecog_data/EuroSAT/Industrial\n",
      "cdi-workshop/imrecog_data/EuroSAT/Pasture\n",
      "cdi-workshop/imrecog_data/EuroSAT/PermanentCrop\n",
      "cdi-workshop/imrecog_data/EuroSAT/Residential\n",
      "cdi-workshop/imrecog_data/EuroSAT/River\n",
      "cdi-workshop/imrecog_data/EuroSAT/SeaLake\n"
     ]
    }
   ],
   "source": [
    "images = []\n",
    "labels = []\n",
    "counter = 0\n",
    "for cat in cats:\n",
    "    print(cat)\n",
    "    files = [f for f in fs.ls(cat) if f.endswith('.jpg')][:number_per_cat]\n",
    "    for file in files:\n",
    "        with fs.open(file, 'rb') as f:\n",
    "            images.append(resize(color.rgb2gray(imread(f, 'jpg')), (size, size)).flatten())\n",
    "            labels.append(counter)\n",
    "    counter += 1            "
   ]
  },
  {
   "cell_type": "code",
   "execution_count": 30,
   "metadata": {},
   "outputs": [
    {
     "name": "stdout",
     "output_type": "stream",
     "text": [
      "(2000, 4096)\n"
     ]
    }
   ],
   "source": [
    "images = np.asarray(images)\n",
    "print(images.shape)"
   ]
  },
  {
   "cell_type": "markdown",
   "metadata": {},
   "source": [
    "We can view an individual image to check it"
   ]
  },
  {
   "cell_type": "code",
   "execution_count": 31,
   "metadata": {},
   "outputs": [
    {
     "data": {
      "text/plain": [
       "<matplotlib.image.AxesImage at 0x7f7c0532e320>"
      ]
     },
     "execution_count": 31,
     "metadata": {},
     "output_type": "execute_result"
    },
    {
     "data": {
      "image/png": "[encoded data removed]",
      "text/plain": [
       "<Figure size 432x288 with 1 Axes>"
      ]
     },
     "metadata": {},
     "output_type": "display_data"
    }
   ],
   "source": [
    "plt.imshow(images[0].reshape(64,64), cmap='gray')"
   ]
  },
  {
   "cell_type": "markdown",
   "metadata": {},
   "source": [
    "It’s standard practice to scale the input data so that it all fits mostly between either 0 to 1 or with a small range centred around 0 i.e. -1 to 1.  \n",
    "\n",
    "Why?  It can help the convergence of the neural network and is especially important if we are combining different data types.\n",
    "\n",
    "The scikit learn standard scaler by default normalises the data by subtracting the mean and dividing by the standard deviation. "
   ]
  },
  {
   "cell_type": "code",
   "execution_count": 32,
   "metadata": {},
   "outputs": [],
   "source": [
    "from sklearn.preprocessing import StandardScaler\n",
    "X_scale = StandardScaler()\n",
    "X = X_scale.fit_transform(images)"
   ]
  },
  {
   "cell_type": "code",
   "execution_count": 33,
   "metadata": {},
   "outputs": [
    {
     "data": {
      "text/plain": [
       "(2000, 4096)"
      ]
     },
     "execution_count": 33,
     "metadata": {},
     "output_type": "execute_result"
    }
   ],
   "source": [
    "np.shape(X)"
   ]
  },
  {
   "cell_type": "markdown",
   "metadata": {},
   "source": [
    "In machine learning, there is a phenomenon called “overfitting”. This occurs when models, during training, become too complex – they become really well adapted to predict the training data, but when they are asked to predict something based on new data that they haven’t “seen” before, they perform poorly. In other words, the models don’t generalise very well. To make sure that we are not creating models which are too complex, it is common practice to split the dataset into a training set and a test set. The training set is, obviously, the data that the model will be trained on, and the test set is the data that the model will be tested on after it has been trained. The amount of training data is always more numerous than the testing data, and is usually between 60-80% of the total dataset."
   ]
  },
  {
   "cell_type": "code",
   "execution_count": 34,
   "metadata": {},
   "outputs": [],
   "source": [
    "from sklearn.model_selection import train_test_split\n",
    "y = labels \n",
    "X_train, X_test, y_train, y_test = train_test_split(X, y, test_size=0.2)"
   ]
  },
  {
   "cell_type": "code",
   "execution_count": 35,
   "metadata": {},
   "outputs": [
    {
     "data": {
      "text/plain": [
       "(1600, 4096)"
      ]
     },
     "execution_count": 35,
     "metadata": {},
     "output_type": "execute_result"
    }
   ],
   "source": [
    "np.shape(X_train)"
   ]
  },
  {
   "cell_type": "code",
   "execution_count": 36,
   "metadata": {},
   "outputs": [],
   "source": [
    "num_cats = len(np.unique(labels))"
   ]
  },
  {
   "cell_type": "markdown",
   "metadata": {},
   "source": [
    "### Setting up the network"
   ]
  },
  {
   "cell_type": "markdown",
   "metadata": {},
   "source": [
    "neural network architecture would be to have an output layer of 5 nodes, with each of these nodes representing a label from 0 to 4. \n",
    "\n",
    "We want to train the network so that when, say, an image of the digit “1” is presented to the neural network, the node in the output layer representing 1 has the highest value. \n",
    "\n",
    "like this: [0, 1, 0, 0, 0, 0]. "
   ]
  },
  {
   "cell_type": "code",
   "execution_count": 37,
   "metadata": {},
   "outputs": [
    {
     "data": {
      "text/plain": [
       "(4, array([0., 0., 0., 0., 1., 0., 0., 0., 0., 0.]))"
      ]
     },
     "execution_count": 37,
     "metadata": {},
     "output_type": "execute_result"
    }
   ],
   "source": [
    "def convert_y_to_vect(y, num_cats):\n",
    "    y_vect = np.zeros((len(y), num_cats))\n",
    "    for i in range(len(y)):\n",
    "        y_vect[i, y[i]] = 1\n",
    "    return y_vect\n",
    "y_v_train = convert_y_to_vect(y_train, num_cats)\n",
    "y_v_test = convert_y_to_vect(y_test, num_cats)\n",
    "y_train[0], y_v_train[0]"
   ]
  },
  {
   "cell_type": "markdown",
   "metadata": {},
   "source": [
    "The next step is to specify the structure of the neural network. \n",
    "\n",
    "For the input layer, we know we need 4096 nodes to cover the pixels in the image. \n",
    "\n",
    "we need 5 output layer nodes to predict the 5 classes. \n",
    "\n",
    "We’ll also need a hidden layer in our network to allow for the complexity of the task. Usually, the number of hidden layer nodes is somewhere between the number of input layers and the number of output layers. Let’s define a simple Python list that designates the structure of our network:"
   ]
  },
  {
   "cell_type": "code",
   "execution_count": 38,
   "metadata": {},
   "outputs": [],
   "source": [
    "nn_structure = [size**2, 10, num_cats]"
   ]
  },
  {
   "cell_type": "markdown",
   "metadata": {},
   "source": [
    "The biological neuron is simulated in an ANN by an activation function. In classification tasks this activation function has to have a “switch on” characteristic – in other words, once the input is greater than a certain value, the output should change state i.e. from 0 to 1, from -1 to 1 or from 0 to >0. This simulates the “turning on” of a biological neuron. A common activation function that is used is the sigmoid function:\n",
    "\n",
    "$f(z)=\\frac{1}{1+\\exp(−z)}$\n",
    "\n",
    "\n",
    "Which looks like this:"
   ]
  },
  {
   "cell_type": "code",
   "execution_count": 39,
   "metadata": {},
   "outputs": [
    {
     "data": {
      "image/png": "[encoded data removed]",
      "text/plain": [
       "<Figure size 432x288 with 1 Axes>"
      ]
     },
     "metadata": {},
     "output_type": "display_data"
    }
   ],
   "source": [
    "x = np.arange(-8, 8, 0.1)\n",
    "f = 1 / (1 + np.exp(-x))\n",
    "plt.plot(x, f)\n",
    "plt.xlabel('x')\n",
    "plt.ylabel('f(x)')\n",
    "plt.show()"
   ]
  },
  {
   "cell_type": "markdown",
   "metadata": {},
   "source": [
    " the function is “activated” i.e. it moves from 0 to 1 when the input x is greater than a certain value. The sigmoid function isn’t a step function however, the edge is “soft”, and the output doesn’t change instantaneously. "
   ]
  },
  {
   "cell_type": "markdown",
   "metadata": {},
   "source": [
    "setup the sigmoid function and its derivative:"
   ]
  },
  {
   "cell_type": "code",
   "execution_count": 40,
   "metadata": {},
   "outputs": [],
   "source": [
    "def f(x):\n",
    "    return 1 / (1 + np.exp(-x))\n",
    "def f_deriv(x):\n",
    "    return f(x) * (1 - f(x))"
   ]
  },
  {
   "cell_type": "markdown",
   "metadata": {},
   "source": [
    "biological neurons are connected hierarchical networks, with the outputs of some neurons being the inputs to others. We can represent these networks as connected layers of nodes. Each node takes multiple weighted inputs, applies the activation function to the summation of these inputs, and in doing so generates an output."
   ]
  },
  {
   "cell_type": "code",
   "execution_count": null,
   "metadata": {},
   "outputs": [],
   "source": []
  },
  {
   "cell_type": "markdown",
   "metadata": {},
   "source": [
    "So the first step is to initialise the weights for each layer. \n",
    "\n",
    "To make it easy to organise the various layers, we’ll use Python dictionary objects (initialised by {}). Finally, the weights have to be initialised with random values – this is to ensure that the neural network will converge correctly during training. We use the numpy library random_sample function to do this. \n",
    "\n",
    "The weight initialisation code is shown below:"
   ]
  },
  {
   "cell_type": "code",
   "execution_count": 41,
   "metadata": {},
   "outputs": [],
   "source": [
    "import numpy.random as r\n",
    "def setup_and_init_weights(nn_structure):\n",
    "    W = {}\n",
    "    b = {}\n",
    "    for l in range(1, len(nn_structure)):\n",
    "        W[l] = r.random_sample((nn_structure[l], nn_structure[l-1]))\n",
    "        b[l] = r.random_sample((nn_structure[l],))\n",
    "    return W, b"
   ]
  },
  {
   "cell_type": "markdown",
   "metadata": {},
   "source": [
    "Training constitutes setting of the values of the weights which link the layers in the network. In supervised learning, the idea is to reduce the error between the input and the desired output.\n",
    "\n",
    "The idea of supervised learning is to provide many input-output pairs of known data and vary the weights based on these samples so that the error expression is minimised.\n",
    "\n",
    "How do we know how to vary the weights, given an error in the output of the network? This is where the concept of gradient descent comes in handy. "
   ]
  },
  {
   "cell_type": "markdown",
   "metadata": {},
   "source": []
  },
  {
   "cell_type": "code",
   "execution_count": 42,
   "metadata": {},
   "outputs": [],
   "source": [
    "def init_tri_values(nn_structure):\n",
    "    tri_W = {}\n",
    "    tri_b = {}\n",
    "    for l in range(1, len(nn_structure)):\n",
    "        tri_W[l] = np.zeros((nn_structure[l], nn_structure[l-1]))\n",
    "        tri_b[l] = np.zeros((nn_structure[l],))\n",
    "    return tri_W, tri_b"
   ]
  },
  {
   "cell_type": "code",
   "execution_count": null,
   "metadata": {},
   "outputs": [],
   "source": []
  },
  {
   "cell_type": "markdown",
   "metadata": {},
   "source": [
    "The first step is to perform a feed forward pass through the network.\n",
    "\n",
    "This is how you calculate the output of the network when the input and the weights are known."
   ]
  },
  {
   "cell_type": "code",
   "execution_count": 43,
   "metadata": {},
   "outputs": [],
   "source": [
    "def feed_forward(x, W, b):\n",
    "    h = {1: x}\n",
    "    z = {}\n",
    "    for l in range(1, len(W) + 1):\n",
    "        # if it is the first layer, then the input into the weights is x, otherwise, \n",
    "        # it is the output from the last layer\n",
    "        if l == 1:\n",
    "            node_in = x\n",
    "        else:\n",
    "            node_in = h[l]\n",
    "        z[l+1] = W[l].dot(node_in) + b[l] # z^(l+1) = W^(l)*h^(l) + b^(l)  \n",
    "        h[l+1] = f(z[l+1]) # h^(l) = f(z^(l)) \n",
    "    return h, z"
   ]
  },
  {
   "cell_type": "markdown",
   "metadata": {},
   "source": [
    "### Training the network"
   ]
  },
  {
   "cell_type": "markdown",
   "metadata": {},
   "source": [
    "We're not setting a termination of the gradient descent process based on some change or precision of the cost function. Rather, we are just running it for a set number of iterations and we’ll monitor how the average cost function changes as we progress through the training (avg_cost_func list in the below code). \n",
    "\n",
    "In each iteration of the gradient descent, we cycle through each training sample (range(len(y)) and perform the feed forward pass and then the backpropagation. The backpropagation step is an iteration through the layers starting at the output layer and working backwards – range(len(nn_structure), 0, -1). \n",
    "\n",
    "We calculate the average cost, which we are tracking during the training, at the output layer (l == len(nn_structure)). \n",
    "\n",
    "We also update the mean accumulation values, ΔW and Δb, designated as tri_W and tri_b, for every layer apart from the output layer (there are no weights connecting the output layer to any further layer)\n",
    "\n",
    "Finally, after we have looped through all the training samples, accumulating the tri_W and tri_b values, we perform a gradient descent step change in the weight and bias values\n",
    "\n",
    "After the process is completed, we return the trained weight and bias values, along with our tracked average cost for each iteration."
   ]
  },
  {
   "cell_type": "code",
   "execution_count": 44,
   "metadata": {},
   "outputs": [],
   "source": [
    "def calculate_out_layer_delta(y, h_out, z_out):\n",
    "    # delta^(nl) = -(y_i - h_i^(nl)) * f'(z_i^(nl))\n",
    "    return -(y-h_out) * f_deriv(z_out)\n",
    "\n",
    "def calculate_hidden_delta(delta_plus_1, w_l, z_l):\n",
    "    # delta^(l) = (transpose(W^(l)) * delta^(l+1)) * f'(z^(l))\n",
    "    return np.dot(np.transpose(w_l), delta_plus_1) * f_deriv(z_l)"
   ]
  },
  {
   "cell_type": "code",
   "execution_count": 45,
   "metadata": {},
   "outputs": [],
   "source": [
    "def train_nn(nn_structure, X, y, iter_num=600, alpha=0.25):\n",
    "    W, b = setup_and_init_weights(nn_structure)\n",
    "    cnt = 0\n",
    "    m = len(y)\n",
    "    avg_cost_func = []\n",
    "    print('Starting gradient descent for {} iterations'.format(iter_num))\n",
    "    while cnt < iter_num:\n",
    "        if cnt%50 == 0:\n",
    "            print('Iteration {} of {}'.format(cnt, iter_num))\n",
    "        tri_W, tri_b = init_tri_values(nn_structure)\n",
    "        avg_cost = 0\n",
    "        for i in range(len(y)):\n",
    "            delta = {}\n",
    "            # perform the feed forward pass and return the stored h and z values, to be used in the\n",
    "            # gradient descent step\n",
    "            h, z = feed_forward(X[i, :], W, b)\n",
    "            # loop from nl-1 to 1 backpropagating the errors\n",
    "            for l in range(len(nn_structure), 0, -1):\n",
    "                if l == len(nn_structure):\n",
    "                    delta[l] = calculate_out_layer_delta(y[i,:], h[l], z[l])\n",
    "                    avg_cost += np.linalg.norm((y[i,:]-h[l]))\n",
    "                else:\n",
    "                    if l > 1:\n",
    "                        delta[l] = calculate_hidden_delta(delta[l+1], W[l], z[l])\n",
    "                    # triW^(l) = triW^(l) + delta^(l+1) * transpose(h^(l))\n",
    "                    tri_W[l] += np.dot(delta[l+1][:,np.newaxis], np.transpose(h[l][:,np.newaxis])) \n",
    "                    # trib^(l) = trib^(l) + delta^(l+1)\n",
    "                    tri_b[l] += delta[l+1]\n",
    "        # perform the gradient descent step for the weights in each layer\n",
    "        for l in range(len(nn_structure) - 1, 0, -1):\n",
    "            W[l] += -alpha * (1.0/m * tri_W[l])\n",
    "            b[l] += -alpha * (1.0/m * tri_b[l])\n",
    "        # complete the average cost calculation\n",
    "        avg_cost = 1.0/m * avg_cost\n",
    "        avg_cost_func.append(avg_cost)\n",
    "        cnt += 1\n",
    "    return W, b, avg_cost_func"
   ]
  },
  {
   "cell_type": "code",
   "execution_count": 46,
   "metadata": {},
   "outputs": [],
   "source": [
    "alpha = 0.1 #learning rate\n",
    "n_it = 1000 #number of iterations"
   ]
  },
  {
   "cell_type": "markdown",
   "metadata": {},
   "source": [
    "Let's run the function"
   ]
  },
  {
   "cell_type": "code",
   "execution_count": 47,
   "metadata": {},
   "outputs": [
    {
     "name": "stdout",
     "output_type": "stream",
     "text": [
      "Starting gradient descent for 1000 iterations\n",
      "Iteration 0 of 1000\n"
     ]
    },
    {
     "name": "stderr",
     "output_type": "stream",
     "text": [
      "/opt/conda/lib/python3.6/site-packages/ipykernel/__main__.py:2: RuntimeWarning: overflow encountered in exp\n",
      "  from ipykernel import kernelapp as app\n"
     ]
    },
    {
     "name": "stdout",
     "output_type": "stream",
     "text": [
      "Iteration 50 of 1000\n",
      "Iteration 100 of 1000\n",
      "Iteration 150 of 1000\n",
      "Iteration 200 of 1000\n",
      "Iteration 250 of 1000\n",
      "Iteration 300 of 1000\n",
      "Iteration 350 of 1000\n",
      "Iteration 400 of 1000\n",
      "Iteration 450 of 1000\n",
      "Iteration 500 of 1000\n",
      "Iteration 550 of 1000\n",
      "Iteration 600 of 1000\n",
      "Iteration 650 of 1000\n",
      "Iteration 700 of 1000\n",
      "Iteration 750 of 1000\n",
      "Iteration 800 of 1000\n",
      "Iteration 850 of 1000\n",
      "Iteration 900 of 1000\n",
      "Iteration 950 of 1000\n"
     ]
    }
   ],
   "source": [
    "W, b, avg_cost_func = train_nn(nn_structure, X_train, y_v_train, n_it, alpha)"
   ]
  },
  {
   "cell_type": "markdown",
   "metadata": {},
   "source": [
    "Now we can have a look at how the average cost function decreased as we went through the gradient descent iterations of the training, slowly converging on a minimum in the function:"
   ]
  },
  {
   "cell_type": "code",
   "execution_count": 48,
   "metadata": {},
   "outputs": [
    {
     "data": {
      "image/png": "[encoded data removed]",
      "text/plain": [
       "<Figure size 432x288 with 1 Axes>"
      ]
     },
     "metadata": {},
     "output_type": "display_data"
    }
   ],
   "source": [
    "plt.plot(avg_cost_func)\n",
    "plt.ylabel('Average Cost Function')\n",
    "plt.xlabel('Iteration number')\n",
    "plt.show()"
   ]
  },
  {
   "cell_type": "markdown",
   "metadata": {},
   "source": [
    "our average cost function value has started to “plateau” and therefore any further increases in the number of iterations isn’t likely to improve the performance of the network by much."
   ]
  },
  {
   "cell_type": "markdown",
   "metadata": {},
   "source": [
    "### Evaluating the network"
   ]
  },
  {
   "cell_type": "markdown",
   "metadata": {},
   "source": [
    "Given a test input (64x64 pixels), we need to find what the output of our neural network is – we do that by simply performing a feed forward pass through the network using our trained weight and bias values. As discussed previously, we assess the prediction of the output layer by taking the node with the maximum output as the predicted digit. We can use the numpy.argmax function for this, which returns the index of the array value with the highest value:"
   ]
  },
  {
   "cell_type": "code",
   "execution_count": 49,
   "metadata": {},
   "outputs": [],
   "source": [
    "def predict_y(W, b, X, n_layers):\n",
    "    m = X.shape[0]\n",
    "    y = np.zeros((m,))\n",
    "    for i in range(m):\n",
    "        h, z = feed_forward(X[i, :], W, b)\n",
    "        y[i] = np.argmax(h[n_layers])\n",
    "    return y"
   ]
  },
  {
   "cell_type": "code",
   "execution_count": null,
   "metadata": {},
   "outputs": [],
   "source": []
  },
  {
   "cell_type": "code",
   "execution_count": null,
   "metadata": {},
   "outputs": [],
   "source": []
  },
  {
   "cell_type": "code",
   "execution_count": 50,
   "metadata": {},
   "outputs": [
    {
     "name": "stderr",
     "output_type": "stream",
     "text": [
      "/opt/conda/lib/python3.6/site-packages/ipykernel/__main__.py:2: RuntimeWarning: overflow encountered in exp\n",
      "  from ipykernel import kernelapp as app\n"
     ]
    },
    {
     "data": {
      "text/plain": [
       "19.75"
      ]
     },
     "execution_count": 50,
     "metadata": {},
     "output_type": "execute_result"
    }
   ],
   "source": [
    "from sklearn.metrics import accuracy_score\n",
    "y_pred = predict_y(W, b, X_test, 3)\n",
    "accuracy_score(y_test, y_pred)*100"
   ]
  },
  {
   "cell_type": "markdown",
   "metadata": {},
   "source": [
    "classification accuracy is not great. We might achieve a better accuracy by\n",
    "* increasing the number of iterations (find lower plateaus)\n",
    "* decreasing the learning rate\n",
    "* providing more examples of each category\n",
    "* using a deeper network"
   ]
  },
  {
   "cell_type": "markdown",
   "metadata": {},
   "source": [
    "## Building a neural network with tensorflow"
   ]
  },
  {
   "cell_type": "code",
   "execution_count": 51,
   "metadata": {},
   "outputs": [],
   "source": [
    "import tensorflow as tf"
   ]
  },
  {
   "cell_type": "code",
   "execution_count": 65,
   "metadata": {},
   "outputs": [],
   "source": [
    "# Parameters\n",
    "learning_rate = 0.05\n",
    "num_steps = 10000\n",
    "batch_size = 128\n",
    "display_step = 100\n",
    "\n",
    "# Network Parameters\n",
    "n_hidden_1 = 256 # 1st layer number of neurons\n",
    "n_hidden_2 = 256 # 2nd layer number of neurons\n",
    "num_input = size**2 #image shape (256*256)\n",
    "num_classes = 10\n",
    "\n",
    "logs_path = '/tmp/tensorflow_logs/example/'"
   ]
  },
  {
   "cell_type": "markdown",
   "metadata": {},
   "source": [
    "Create placeholders for inputs (X = image data, y = labels)"
   ]
  },
  {
   "cell_type": "code",
   "execution_count": 66,
   "metadata": {},
   "outputs": [],
   "source": [
    "# tf Graph input\n",
    "X = tf.placeholder(\"float\", [None, num_input])\n",
    "Y = tf.placeholder(\"float\", [None, num_classes])"
   ]
  },
  {
   "cell_type": "markdown",
   "metadata": {},
   "source": [
    "Set up network weights and biases"
   ]
  },
  {
   "cell_type": "code",
   "execution_count": 67,
   "metadata": {},
   "outputs": [],
   "source": [
    "# Store layers weight & bias# Store \n",
    "weights = {\n",
    "    'h1': tf.Variable(tf.random_normal([num_input, n_hidden_1])),\n",
    "    'h2': tf.Variable(tf.random_normal([n_hidden_1, n_hidden_2])),\n",
    "    'out': tf.Variable(tf.random_normal([n_hidden_2, num_classes]))\n",
    "}\n",
    "biases = {\n",
    "    'b1': tf.Variable(tf.random_normal([n_hidden_1])),\n",
    "    'b2': tf.Variable(tf.random_normal([n_hidden_2])),\n",
    "    'out': tf.Variable(tf.random_normal([num_classes]))\n",
    "}"
   ]
  },
  {
   "cell_type": "code",
   "execution_count": 68,
   "metadata": {},
   "outputs": [],
   "source": [
    "# Create model\n",
    "def neural_net(x):\n",
    "    # Hidden fully connected layer with 256 neurons\n",
    "    layer_1 = tf.add(tf.matmul(x, weights['h1']), biases['b1'])\n",
    "    # Hidden fully connected layer with 256 neurons\n",
    "    layer_2 = tf.add(tf.matmul(layer_1, weights['h2']), biases['b2'])\n",
    "    # Output fully connected layer with a neuron for each class\n",
    "    out_layer = tf.matmul(layer_2, weights['out']) + biases['out']\n",
    "    return out_layer"
   ]
  },
  {
   "cell_type": "code",
   "execution_count": 69,
   "metadata": {},
   "outputs": [],
   "source": [
    "# Construct model\n",
    "logits = neural_net(X)\n",
    "\n",
    "# Define loss and optimizer\n",
    "loss_op = tf.reduce_mean(tf.nn.softmax_cross_entropy_with_logits(\n",
    "    logits=logits, labels=Y))\n",
    "optimizer = tf.train.AdamOptimizer(learning_rate=learning_rate)\n",
    "train_op = optimizer.minimize(loss_op)\n",
    "\n",
    "# Evaluate model (with test logits, for dropout to be disabled)\n",
    "correct_pred = tf.equal(tf.argmax(logits, 1), tf.argmax(Y, 1))\n",
    "accuracy = tf.reduce_mean(tf.cast(correct_pred, tf.float32))\n",
    "\n",
    "# Initialize the variables (i.e. assign their default value)\n",
    "init = tf.global_variables_initializer()"
   ]
  },
  {
   "cell_type": "markdown",
   "metadata": {},
   "source": [
    "Train the model:"
   ]
  },
  {
   "cell_type": "code",
   "execution_count": 77,
   "metadata": {},
   "outputs": [
    {
     "name": "stdout",
     "output_type": "stream",
     "text": [
      "Step 1, Minibatch Loss= 205919.1562, Training Accuracy= 0.172\n",
      "Step 100, Minibatch Loss= 2655.8806, Training Accuracy= 0.375\n",
      "Step 200, Minibatch Loss= 955.3306, Training Accuracy= 0.375\n",
      "Step 300, Minibatch Loss= 1221.7792, Training Accuracy= 0.422\n",
      "Step 400, Minibatch Loss= 8057.5283, Training Accuracy= 0.328\n",
      "Step 500, Minibatch Loss= 9897.3408, Training Accuracy= 0.344\n",
      "Step 600, Minibatch Loss= 1262.9666, Training Accuracy= 0.555\n",
      "Step 700, Minibatch Loss= 371.0617, Training Accuracy= 0.656\n",
      "Step 800, Minibatch Loss= 194.0653, Training Accuracy= 0.711\n",
      "Step 900, Minibatch Loss= 41.4070, Training Accuracy= 0.773\n",
      "Step 1000, Minibatch Loss= 89.5754, Training Accuracy= 0.766\n",
      "Step 1100, Minibatch Loss= 21.3811, Training Accuracy= 0.789\n",
      "Step 1200, Minibatch Loss= 81.2754, Training Accuracy= 0.836\n",
      "Step 1300, Minibatch Loss= 970.8232, Training Accuracy= 0.578\n",
      "Step 1400, Minibatch Loss= 16204.8311, Training Accuracy= 0.273\n",
      "Step 1500, Minibatch Loss= 4583.0093, Training Accuracy= 0.430\n",
      "Step 1600, Minibatch Loss= 190.9475, Training Accuracy= 0.766\n",
      "Step 1700, Minibatch Loss= 122.1897, Training Accuracy= 0.852\n",
      "Step 1800, Minibatch Loss= 12.3246, Training Accuracy= 0.867\n",
      "Step 1900, Minibatch Loss= 58.3578, Training Accuracy= 0.844\n",
      "Step 2000, Minibatch Loss= 5.4092, Training Accuracy= 0.883\n",
      "Step 2100, Minibatch Loss= 16.2777, Training Accuracy= 0.836\n",
      "Step 2200, Minibatch Loss= 48.4274, Training Accuracy= 0.828\n",
      "Step 2300, Minibatch Loss= 3.9628, Training Accuracy= 0.898\n",
      "Step 2400, Minibatch Loss= 32.6169, Training Accuracy= 0.797\n",
      "Step 2500, Minibatch Loss= 25.1888, Training Accuracy= 0.797\n",
      "Step 2600, Minibatch Loss= 74.2200, Training Accuracy= 0.812\n",
      "Step 2700, Minibatch Loss= 1171.9338, Training Accuracy= 0.641\n",
      "Step 2800, Minibatch Loss= 330959.8750, Training Accuracy= 0.148\n",
      "Step 2900, Minibatch Loss= 2595.5552, Training Accuracy= 0.617\n",
      "Step 3000, Minibatch Loss= 749.0947, Training Accuracy= 0.695\n",
      "Step 3100, Minibatch Loss= 55.5612, Training Accuracy= 0.859\n",
      "Step 3200, Minibatch Loss= 35.3318, Training Accuracy= 0.852\n",
      "Step 3300, Minibatch Loss= 180.4785, Training Accuracy= 0.758\n",
      "Step 3400, Minibatch Loss= 56.8314, Training Accuracy= 0.891\n",
      "Step 3500, Minibatch Loss= 11.2793, Training Accuracy= 0.938\n",
      "Step 3600, Minibatch Loss= 15.1384, Training Accuracy= 0.914\n",
      "Step 3700, Minibatch Loss= 7.2332, Training Accuracy= 0.945\n",
      "Step 3800, Minibatch Loss= 29.4306, Training Accuracy= 0.930\n",
      "Step 3900, Minibatch Loss= 14.2668, Training Accuracy= 0.898\n",
      "Step 4000, Minibatch Loss= 7.9314, Training Accuracy= 0.953\n",
      "Step 4100, Minibatch Loss= 74.0450, Training Accuracy= 0.828\n",
      "Step 4200, Minibatch Loss= 34.0676, Training Accuracy= 0.844\n",
      "Step 4300, Minibatch Loss= 98.7906, Training Accuracy= 0.805\n",
      "Step 4400, Minibatch Loss= 3.1237, Training Accuracy= 0.953\n",
      "Step 4500, Minibatch Loss= 12.0911, Training Accuracy= 0.883\n",
      "Step 4600, Minibatch Loss= 460.7234, Training Accuracy= 0.570\n",
      "Step 4700, Minibatch Loss= 635.6332, Training Accuracy= 0.766\n",
      "Step 4800, Minibatch Loss= 50.4498, Training Accuracy= 0.820\n",
      "Step 4900, Minibatch Loss= 20.8855, Training Accuracy= 0.859\n",
      "Step 5000, Minibatch Loss= 282.2889, Training Accuracy= 0.766\n",
      "Step 5100, Minibatch Loss= 36.0363, Training Accuracy= 0.859\n",
      "Step 5200, Minibatch Loss= 93.1519, Training Accuracy= 0.797\n",
      "Step 5300, Minibatch Loss= 128.6996, Training Accuracy= 0.875\n",
      "Step 5400, Minibatch Loss= 3196.6292, Training Accuracy= 0.562\n",
      "Step 5500, Minibatch Loss= 5652.3477, Training Accuracy= 0.477\n",
      "Step 5600, Minibatch Loss= 1402.1267, Training Accuracy= 0.656\n",
      "Step 5700, Minibatch Loss= 81.4782, Training Accuracy= 0.828\n",
      "Step 5800, Minibatch Loss= 94.5545, Training Accuracy= 0.852\n",
      "Step 5900, Minibatch Loss= 0.9428, Training Accuracy= 0.945\n",
      "Step 6000, Minibatch Loss= 2.9244, Training Accuracy= 0.945\n",
      "Step 6100, Minibatch Loss= 2.1980, Training Accuracy= 0.938\n",
      "Step 6200, Minibatch Loss= 0.2819, Training Accuracy= 0.984\n",
      "Step 6300, Minibatch Loss= 4.5036, Training Accuracy= 0.938\n",
      "Step 6400, Minibatch Loss= 5.7245, Training Accuracy= 0.906\n",
      "Step 6500, Minibatch Loss= 1.5217, Training Accuracy= 0.953\n",
      "Step 6600, Minibatch Loss= 16.8699, Training Accuracy= 0.922\n",
      "Step 6700, Minibatch Loss= 398.9326, Training Accuracy= 0.820\n",
      "Step 6800, Minibatch Loss= 21675.9297, Training Accuracy= 0.477\n",
      "Step 6900, Minibatch Loss= 102061.7969, Training Accuracy= 0.273\n",
      "Step 7000, Minibatch Loss= 1833.6533, Training Accuracy= 0.719\n",
      "Step 7100, Minibatch Loss= 182.7752, Training Accuracy= 0.805\n",
      "Step 7200, Minibatch Loss= 316.4027, Training Accuracy= 0.836\n",
      "Step 7300, Minibatch Loss= 242.8473, Training Accuracy= 0.750\n",
      "Step 7400, Minibatch Loss= 59.5694, Training Accuracy= 0.914\n",
      "Step 7500, Minibatch Loss= 2.5925, Training Accuracy= 0.961\n",
      "Step 7600, Minibatch Loss= 3.3995, Training Accuracy= 0.961\n",
      "Step 7700, Minibatch Loss= 23.5763, Training Accuracy= 0.922\n",
      "Step 7800, Minibatch Loss= 56.3222, Training Accuracy= 0.836\n",
      "Step 7900, Minibatch Loss= 87.3046, Training Accuracy= 0.898\n",
      "Step 8000, Minibatch Loss= 145.1911, Training Accuracy= 0.852\n",
      "Step 8100, Minibatch Loss= 59.6904, Training Accuracy= 0.922\n",
      "Step 8200, Minibatch Loss= 70.6127, Training Accuracy= 0.891\n",
      "Step 8300, Minibatch Loss= 14.8707, Training Accuracy= 0.922\n",
      "Step 8400, Minibatch Loss= 44.7677, Training Accuracy= 0.914\n",
      "Step 8500, Minibatch Loss= 149.7156, Training Accuracy= 0.859\n",
      "Step 8600, Minibatch Loss= 22.4711, Training Accuracy= 0.898\n",
      "Step 8700, Minibatch Loss= 12.4191, Training Accuracy= 0.938\n",
      "Step 8800, Minibatch Loss= 1.8584, Training Accuracy= 0.953\n",
      "Step 8900, Minibatch Loss= 215.8130, Training Accuracy= 0.844\n",
      "Step 9000, Minibatch Loss= 131.1704, Training Accuracy= 0.812\n",
      "Step 9100, Minibatch Loss= 1.4813, Training Accuracy= 0.969\n",
      "Step 9200, Minibatch Loss= 1084.7660, Training Accuracy= 0.742\n",
      "Step 9300, Minibatch Loss= 194.6663, Training Accuracy= 0.859\n",
      "Step 9400, Minibatch Loss= 59.5035, Training Accuracy= 0.883\n",
      "Step 9500, Minibatch Loss= 17.7732, Training Accuracy= 0.922\n",
      "Step 9600, Minibatch Loss= 506.7943, Training Accuracy= 0.844\n",
      "Step 9700, Minibatch Loss= 44.1860, Training Accuracy= 0.914\n",
      "Step 9800, Minibatch Loss= 45.2762, Training Accuracy= 0.914\n",
      "Step 9900, Minibatch Loss= 2253.1670, Training Accuracy= 0.703\n",
      "Step 10000, Minibatch Loss= 3751.0264, Training Accuracy= 0.695\n",
      "Optimization Finished!\n",
      "Testing Accuracy: 0.265\n"
     ]
    }
   ],
   "source": [
    "# Start training\n",
    "A =[]\n",
    "with tf.Session() as sess:\n",
    "\n",
    "    # Run the initializer\n",
    "    sess.run(init)\n",
    "\n",
    "    summary_writer = tf.summary.FileWriter(logs_path, graph=tf.get_default_graph())\n",
    "    \n",
    "    for step in range(1, num_steps+1):\n",
    "        ind = r.choice(np.arange(np.shape(X_train)[0]),batch_size)\n",
    "        batch_x = X_train[ind]\n",
    "        batch_y = y_v_train[ind]\n",
    "        # Run optimization op (backprop)\n",
    "        sess.run(train_op, feed_dict={X: batch_x, Y: batch_y})\n",
    "        if step % display_step == 0 or step == 1:\n",
    "            # Calculate batch loss and accuracy\n",
    "            loss, acc = sess.run([loss_op, accuracy], feed_dict={X: batch_x,\n",
    "                                                                 Y: batch_y})\n",
    "            A.append(acc)\n",
    "            print(\"Step \" + str(step) + \", Minibatch Loss= \" + \\\n",
    "                  \"{:.4f}\".format(loss) + \", Training Accuracy= \" + \\\n",
    "                  \"{:.3f}\".format(acc))\n",
    "\n",
    "    print(\"Optimization Finished!\")\n",
    "\n",
    "    # Calculate accuracy for test images\n",
    "    print(\"Testing Accuracy:\", \\\n",
    "        sess.run(accuracy, feed_dict={X: X_test, \n",
    "                                      Y: y_v_test})) "
   ]
  },
  {
   "cell_type": "code",
   "execution_count": null,
   "metadata": {},
   "outputs": [],
   "source": []
  },
  {
   "cell_type": "code",
   "execution_count": 78,
   "metadata": {},
   "outputs": [
    {
     "data": {
      "image/png": "[encoded data removed]",
      "text/plain": [
       "<Figure size 432x288 with 1 Axes>"
      ]
     },
     "metadata": {},
     "output_type": "display_data"
    }
   ],
   "source": [
    "plt.plot(np.arange(0,num_steps+1, display_step), A)\n",
    "plt.ylabel('Average Training Accuracy')\n",
    "plt.xlabel('Iteration number')\n",
    "plt.show()"
   ]
  },
  {
   "cell_type": "code",
   "execution_count": null,
   "metadata": {},
   "outputs": [],
   "source": []
  },
  {
   "cell_type": "code",
   "execution_count": 79,
   "metadata": {},
   "outputs": [],
   "source": [
    "##!tensorboard --logdir=/tmp/tensorflow_logs"
   ]
  },
  {
   "cell_type": "code",
   "execution_count": null,
   "metadata": {},
   "outputs": [],
   "source": []
  }
 ],
 "metadata": {
  "kernelspec": {
   "display_name": "Python [default]",
   "language": "python",
   "name": "python3"
  },
  "language_info": {
   "codemirror_mode": {
    "name": "ipython",
    "version": 3
   },
   "file_extension": ".py",
   "mimetype": "text/x-python",
   "name": "python",
   "nbconvert_exporter": "python",
   "pygments_lexer": "ipython3",
   "version": "3.6.5"
  }
 },
 "nbformat": 4,
 "nbformat_minor": 2
}
